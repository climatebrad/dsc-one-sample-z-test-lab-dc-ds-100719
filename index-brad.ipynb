{
 "cells": [
  {
   "cell_type": "markdown",
   "metadata": {},
   "source": [
    "# One-Sample z-test - Lab\n",
    "\n",
    "## Introduction\n",
    "In this lab, you'll perform a few quick tests to help you better understand how hypothesis testing works.\n",
    "\n",
    "## Objectives\n",
    "You will be able to:\n",
    "\n",
    "* Explain use cases for a 1-sample z-test\n",
    "* Set up null and alternative hypotheses\n",
    "* Use the z-table and scipy methods to acquire the p value for a given z-score\n",
    "* Calculate and interpret p-value for significance of results\n",
    "\n",
    "## Exercise 1\n",
    "A fast-food chain claims that the mean time to order food at their restaurants is 60 seconds, with a standard deviation of 30 seconds. You decide to put this claim to the test and go to one of the restaurants to observe actual waiting times. You take a sample of 36 customers and find that the mean order time was 75 seconds. Does this finding provide enough evidence to contradict the fast food chain's claim of fast service?\n",
    "\n",
    "Follow the 5 steps shown in previous lesson and use $\\alpha$ = 0.05. "
   ]
  },
  {
   "cell_type": "markdown",
   "metadata": {},
   "source": [
    "# State your null and alternative hypotheses\n",
    "null hypothesis: \n",
    "\\begin{align}\n",
    "\\mu \\geq \\bar{x}\n",
    "\\end{align}\n",
    "alternative hypothesis: \n",
    "\\begin{align}\n",
    "\\bar{x} > \\mu\n",
    "\\end{align}"
   ]
  },
  {
   "cell_type": "code",
   "execution_count": null,
   "metadata": {},
   "outputs": [],
   "source": [
    "# Your solution here\n",
    "import scipy.stats as stats\n",
    "from math import sqrt\n",
    "\n",
    "mu = 60\n",
    "sigma = 30\n",
    "n = 36\n",
    "x_bar = 75\n",
    "alpha = 0.05\n",
    "\n",
    "z = (x_bar - mu)/(sigma/sqrt(n))\n",
    "p = 1 - stats.norm.cdf(z)\n",
    "p, z\n",
    "# (p = 0.0013498980316301035, z = 3.0)"
   ]
  },
  {
   "cell_type": "markdown",
   "metadata": {},
   "source": [
    "# Interpret the results in terms of the p-value\n",
    "\n",
    "There is about a 1 in 1000 chance that our observation was a random observation of the null-hypothesis scenario."
   ]
  },
  {
   "cell_type": "markdown",
   "metadata": {},
   "source": [
    "## Exercise 2\n",
    "\n",
    "25 students complete a preparation program for taking the SAT test.  Here are the SAT scores from the 25 students who completed the program:\n",
    "\n",
    "``\n",
    "434 694 457 534 720 400 484 478 610 641 425 636 454 \n",
    "514 563 370 499 640 501 625 612 471 598 509 531\n",
    "``\n",
    "\n",
    "We know that the population average for SAT scores is 500 with a standard deviation of 100.\n",
    "\n",
    "Are our 25 students’ SAT scores significantly higher than the population's mean score? \n",
    "\n",
    "*Note that the SAT preparation program claims that it will increase (and not decrease) the SAT score.  So, you can conduct a one-directional test. (alpha = .05).*"
   ]
  },
  {
   "cell_type": "code",
   "execution_count": null,
   "metadata": {},
   "outputs": [],
   "source": []
  },
  {
   "cell_type": "markdown",
   "metadata": {},
   "source": [
    "# State your hypotheses \n",
    "null hypothesis: \n",
    "\\begin{align}\n",
    "H_0 = \\mu \\geq \\bar{x}\n",
    "\\end{align}\n",
    "alternative hypothesis: \n",
    "\\begin{align}\n",
    "H_a = \\bar{x} > \\mu\n",
    "\\end{align}"
   ]
  },
  {
   "cell_type": "code",
   "execution_count": null,
   "metadata": {},
   "outputs": [],
   "source": [
    "# Give your solution here \n",
    "import numpy as np\n",
    "import matplotlib.pyplot as plt\n",
    "%matplotlib inline\n",
    "scorelist = \"434 694 457 534 720 400 484 478 610 641 425 636 454 514 563 370 499 640 501 625 612 471 598 509 531\"\n",
    "scores = [int(x) for x in scorelist.split(\" \")]\n",
    "n = len(scores)\n",
    "x_bar = np.mean(scores)\n",
    "mu = 500\n",
    "sigma = 100\n",
    "\n",
    "plt.hist(scores)\n",
    "\n",
    "z = (x_bar - mu)/(sigma/sqrt(n))\n",
    "p = 1 - stats.norm.cdf(z)\n",
    "p, z\n",
    "# p = 0.03593031911292577, z = 1.8"
   ]
  },
  {
   "cell_type": "code",
   "execution_count": null,
   "metadata": {},
   "outputs": [],
   "source": []
  },
  {
   "cell_type": "markdown",
   "metadata": {},
   "source": [
    "# Interpret the results in terms of the p-value\n",
    "The test results are significantly higher than the population mean; we can reject the null hypothesis given our threshold.\n",
    "\n",
    "better phrasing:\n",
    "\"the training has a SIGNIFICANT effect on the SAT outcome at a significance level of 0.05\""
   ]
  },
  {
   "cell_type": "markdown",
   "metadata": {},
   "source": [
    "## Summary\n",
    "\n",
    "In this lesson, you conducted a couple of simple tests comparing sample and population means, in an attempt to reject our null hypotheses. This provides you with a strong foundation to move ahead with more advanced tests and approaches later on."
   ]
  }
 ],
 "metadata": {
  "language_info": {
   "name": "python",
   "pygments_lexer": "ipython3"
  }
 },
 "nbformat": 4,
 "nbformat_minor": 2
}
